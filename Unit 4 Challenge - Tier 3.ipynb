{
 "cells": [
  {
   "cell_type": "markdown",
   "metadata": {
    "colab_type": "text",
    "id": "Tia3MP1SJpgj"
   },
   "source": [
    "# Springboard Data Science Career Track Unit 4 Challenge - Tier 3 Complete\n",
    "\n",
    "## Objectives\n",
    "Hey! Great job getting through those challenging DataCamp courses. You're learning a lot in a short span of time. \n",
    "\n",
    "In this notebook, you're going to apply the skills you've been learning, bridging the gap between the controlled environment of DataCamp and the *slightly* messier work that data scientists do with actual datasets!\n",
    "\n",
    "Here’s the mystery we’re going to solve: ***which boroughs of London have seen the greatest increase in housing prices, on average, over the last two decades?***\n",
    "\n",
    "\n",
    "A borough is just a fancy word for district. You may be familiar with the five boroughs of New York… well, there are 32 boroughs within Greater London [(here's some info for the curious)](https://en.wikipedia.org/wiki/London_boroughs). Some of them are more desirable areas to live in, and the data will reflect that with a greater rise in housing prices.\n",
    "\n",
    "***This is the Tier 3 notebook, which means it's not filled in at all: we'll just give you the skeleton of a project, the brief and the data. It's up to you to play around with it and see what you can find out! Good luck! If you struggle, feel free to look at easier tiers for help; but try to dip in and out of them, as the more independent work you do, the better it is for your learning!***\n",
    "\n",
    "This challenge will make use of only what you learned in the following DataCamp courses: \n",
    "- Prework courses (Introduction to Python for Data Science, Intermediate Python for Data Science)\n",
    "- Data Types for Data Science\n",
    "- Python Data Science Toolbox (Part One) \n",
    "- pandas Foundations\n",
    "- Manipulating DataFrames with pandas\n",
    "- Merging DataFrames with pandas\n",
    "\n",
    "Of the tools, techniques and concepts in the above DataCamp courses, this challenge should require the application of the following: \n",
    "- **pandas**\n",
    "    - **data ingestion and inspection** (pandas Foundations, Module One) \n",
    "    - **exploratory data analysis** (pandas Foundations, Module Two)\n",
    "    - **tidying and cleaning** (Manipulating DataFrames with pandas, Module Three) \n",
    "    - **transforming DataFrames** (Manipulating DataFrames with pandas, Module One)\n",
    "    - **subsetting DataFrames with lists** (Manipulating DataFrames with pandas, Module One) \n",
    "    - **filtering DataFrames** (Manipulating DataFrames with pandas, Module One) \n",
    "    - **grouping data** (Manipulating DataFrames with pandas, Module Four) \n",
    "    - **melting data** (Manipulating DataFrames with pandas, Module Three) \n",
    "    - **advanced indexing** (Manipulating DataFrames with pandas, Module Four) \n",
    "- **matplotlib** (Intermediate Python for Data Science, Module One)\n",
    "- **fundamental data types** (Data Types for Data Science, Module One) \n",
    "- **dictionaries** (Intermediate Python for Data Science, Module Two)\n",
    "- **handling dates and times** (Data Types for Data Science, Module Four)\n",
    "- **function definition** (Python Data Science Toolbox - Part One, Module One)\n",
    "- **default arguments, variable length, and scope** (Python Data Science Toolbox - Part One, Module Two) \n",
    "- **lambda functions and error handling** (Python Data Science Toolbox - Part One, Module Four) "
   ]
  },
  {
   "cell_type": "markdown",
   "metadata": {
    "colab_type": "text",
    "id": "Ipgd2nV8Jpgl"
   },
   "source": [
    "## The Data Science Pipeline\n",
    "\n",
    "This is Tier Three, so we'll get you started. But after that, it's all in your hands! When you feel done with your investigations, look back over what you've accomplished, and prepare a quick presentation of your findings for the next mentor meeting. \n",
    "\n",
    "Data Science is magical. In this case study, you'll get to apply some complex machine learning algorithms. But as  [David Spiegelhalter](https://www.youtube.com/watch?v=oUs1uvsz0Ok) reminds us, there is no substitute for simply **taking a really, really good look at the data.** Sometimes, this is all we need to answer our question.\n",
    "\n",
    "Data Science projects generally adhere to the four stages of Data Science Pipeline:\n",
    "1. Sourcing and loading \n",
    "2. Cleaning, transforming, and visualizing \n",
    "3. Modeling \n",
    "4. Evaluating and concluding \n"
   ]
  },
  {
   "cell_type": "markdown",
   "metadata": {
    "colab_type": "text",
    "id": "zswDqbefJpgm"
   },
   "source": [
    "### 1. Sourcing and Loading \n",
    "\n",
    "Any Data Science project kicks off by importing  ***pandas***. The documentation of this wonderful library can be found [here](https://pandas.pydata.org/). As you've seen, pandas is conveniently connected to the [Numpy](http://www.numpy.org/) and [Matplotlib](https://matplotlib.org/) libraries. \n",
    "\n",
    "***Hint:*** This part of the data science pipeline will test those skills you acquired in the pandas Foundations course, Module One. "
   ]
  },
  {
   "cell_type": "markdown",
   "metadata": {
    "colab_type": "text",
    "id": "aEau5nEvJpgm"
   },
   "source": [
    "#### 1.1. Importing Libraries"
   ]
  },
  {
   "cell_type": "code",
   "execution_count": 303,
   "metadata": {
    "colab": {},
    "colab_type": "code",
    "id": "7Bt_Q_oPJpgn"
   },
   "outputs": [],
   "source": [
    "# Let's import the pandas, numpy libraries as pd, and np respectively. \n",
    "import pandas as pd\n",
    "import numpy as np\n",
    "\n",
    "# Load the pyplot collection of functions from matplotlib, as plt \n",
    "import matplotlib as plt"
   ]
  },
  {
   "cell_type": "markdown",
   "metadata": {
    "colab_type": "text",
    "id": "koUrawxsJpgq"
   },
   "source": [
    "#### 1.2.  Loading the data\n",
    "Your data comes from the [London Datastore](https://data.london.gov.uk/): a free, open-source data-sharing portal for London-oriented datasets. "
   ]
  },
  {
   "cell_type": "code",
   "execution_count": 304,
   "metadata": {
    "colab": {},
    "colab_type": "code",
    "id": "AiLiD4v3Jpgr"
   },
   "outputs": [],
   "source": [
    "# First, make a variable called url_LondonHousePrices, and assign it the following link, enclosed in quotation-marks as a string:\n",
    "# https://data.london.gov.uk/download/uk-house-price-index/70ac0766-8902-4eb5-aab5-01951aaed773/UK%20House%20price%20index.xls\n",
    "\n",
    "url_LondonHousePrices = \"https://data.london.gov.uk/download/uk-house-price-index/70ac0766-8902-4eb5-aab5-01951aaed773/UK%20House%20price%20index.xls\"\n",
    "\n",
    "# The dataset we're interested in contains the Average prices of the houses, and is actually on a particular sheet of the Excel file. \n",
    "# As a result, we need to specify the sheet name in the read_excel() method.\n",
    "# Put this data into a variable called properties.  \n",
    "\n",
    "properties = pd.read_excel(url_LondonHousePrices, sheet_name='Average price', index_col= [0])"
   ]
  },
  {
   "cell_type": "markdown",
   "metadata": {
    "colab_type": "text",
    "id": "POukEJXgJpgu"
   },
   "source": [
    "### 2. Cleaning, transforming, and visualizing\n",
    "This second stage is arguably the most important part of any Data Science project. The first thing to do is take a proper look at the data. Cleaning forms the majority of this stage, and can be done both before or after Transformation.\n",
    "\n",
    "The end goal of data cleaning is to have tidy data. When data is tidy: \n",
    "\n",
    "1. Each variable has a column.\n",
    "2. Each observation forms a row.\n",
    "\n",
    "Keep the end goal in mind as you move through this process, every step will take you closer. \n",
    "\n",
    "\n",
    "\n",
    "***Hint:*** This part of the data science pipeline should test those skills you acquired in: \n",
    "- Intermediate Python for data science, all modules.\n",
    "- pandas Foundations, all modules. \n",
    "- Manipulating DataFrames with pandas, all modules.\n",
    "- Data Types for Data Science, Module Four.\n",
    "- Python Data Science Toolbox - Part One, all modules"
   ]
  },
  {
   "cell_type": "markdown",
   "metadata": {
    "colab_type": "text",
    "id": "Te0Q548tnzZa"
   },
   "source": [
    "**2.1. Exploring your data** \n",
    "\n",
    "Think about your pandas functions for checking out a dataframe. "
   ]
  },
  {
   "cell_type": "code",
   "execution_count": 305,
   "metadata": {
    "colab": {},
    "colab_type": "code",
    "id": "Rxirxw_qoAJa"
   },
   "outputs": [
    {
     "name": "stdout",
     "output_type": "stream",
     "text": [
      "           City of London Barking & Dagenham       Barnet       Bexley  \\\n",
      "NaT             E09000001          E09000002    E09000003    E09000004   \n",
      "1995-01-01    91448.98487         50460.2266  93284.51832  64958.09036   \n",
      "1995-02-01    82202.77314        51085.77983  93190.16963  64787.92069   \n",
      "1995-03-01    79120.70256        51268.96956  92247.52435  64367.49344   \n",
      "1995-04-01    77101.20804        53133.50526  90762.87492  64277.66881   \n",
      "\n",
      "                  Brent      Bromley       Camden      Croydon       Ealing  \\\n",
      "NaT           E09000005    E09000006    E09000007    E09000008    E09000009   \n",
      "1995-01-01  71306.56698  81671.47692  120932.8881  69158.16225  79885.89069   \n",
      "1995-02-01  72022.26197  81657.55944  119508.8622  68951.09542  80897.06551   \n",
      "1995-03-01  72015.76274  81449.31143  120282.2131  68712.44341  81379.86288   \n",
      "1995-04-01  72965.63094  81124.41227   120097.899  68610.04641  82188.90498   \n",
      "\n",
      "                Enfield  ...   NORTH WEST YORKS & THE HUMBER EAST MIDLANDS  \\\n",
      "NaT           E09000010  ...    E12000002          E12000003     E12000004   \n",
      "1995-01-01  72514.69096  ...  43958.48001        44803.42878   45544.52227   \n",
      "1995-02-01  73155.19746  ...  43925.42289        44528.80721   46051.57066   \n",
      "1995-03-01  72190.44144  ...   44434.8681        45200.46775   45383.82395   \n",
      "1995-04-01  71442.92235  ...   44267.7796        45614.34341   46124.23045   \n",
      "\n",
      "           WEST MIDLANDS EAST OF ENGLAND       LONDON   SOUTH EAST  \\\n",
      "NaT            E12000005       E12000006    E12000007    E12000008   \n",
      "1995-01-01   48527.52339      56701.5961  74435.76052  64018.87894   \n",
      "1995-02-01   49341.29029     56593.59475  72777.93709  63715.02399   \n",
      "1995-03-01   49442.17973     56171.18278  73896.84204  64113.60858   \n",
      "1995-04-01   49455.93299     56567.89582  74455.28754  64623.22395   \n",
      "\n",
      "             SOUTH WEST Unnamed: 47      England  \n",
      "NaT           E12000009         NaN    E92000001  \n",
      "1995-01-01   54705.1579         NaN  53202.77128  \n",
      "1995-02-01  54356.14843         NaN   53096.1549  \n",
      "1995-03-01  53583.07667         NaN   53201.2843  \n",
      "1995-04-01  54786.01938         NaN   53590.8548  \n",
      "\n",
      "[5 rows x 48 columns]\n",
      "City of London            0\n",
      "Barking & Dagenham        0\n",
      "Barnet                    0\n",
      "Bexley                    0\n",
      "Brent                     0\n",
      "Bromley                   0\n",
      "Camden                    0\n",
      "Croydon                   0\n",
      "Ealing                    0\n",
      "Enfield                   0\n",
      "Greenwich                 0\n",
      "Hackney                   0\n",
      "Hammersmith & Fulham      0\n",
      "Haringey                  0\n",
      "Harrow                    0\n",
      "Havering                  0\n",
      "Hillingdon                0\n",
      "Hounslow                  0\n",
      "Islington                 0\n",
      "Kensington & Chelsea      0\n",
      "Kingston upon Thames      0\n",
      "Lambeth                   0\n",
      "Lewisham                  0\n",
      "Merton                    0\n",
      "Newham                    0\n",
      "Redbridge                 0\n",
      "Richmond upon Thames      0\n",
      "Southwark                 0\n",
      "Sutton                    0\n",
      "Tower Hamlets             0\n",
      "Waltham Forest            0\n",
      "Wandsworth                0\n",
      "Westminster               0\n",
      "Unnamed: 34             342\n",
      "Inner London              0\n",
      "Outer London              0\n",
      "Unnamed: 37             342\n",
      "NORTH EAST                0\n",
      "NORTH WEST                0\n",
      "YORKS & THE HUMBER        0\n",
      "EAST MIDLANDS             0\n",
      "WEST MIDLANDS             0\n",
      "EAST OF ENGLAND           0\n",
      "LONDON                    0\n",
      "SOUTH EAST                0\n",
      "SOUTH WEST                0\n",
      "Unnamed: 47             342\n",
      "England                   0\n",
      "dtype: int64\n"
     ]
    }
   ],
   "source": [
    "print(properties.head())\n",
    "print(properties.isna().sum())"
   ]
  },
  {
   "cell_type": "markdown",
   "metadata": {
    "colab_type": "text",
    "id": "tE9Sqt9-oAta"
   },
   "source": [
    "**2.2. Cleaning the data**\n",
    "\n",
    "You might find you need to transpose your dataframe, check out what its row indexes are, and reset the index. You  also might find you need to assign the values of the first row to your column headings  . (Hint: recall the .columns feature of DataFrames, as well as the iloc[] method).\n",
    "\n",
    "Don't be afraid to use StackOverflow for help  with this."
   ]
  },
  {
   "cell_type": "code",
   "execution_count": 306,
   "metadata": {
    "colab": {},
    "colab_type": "code",
    "id": "cdAu1A3YoH_r"
   },
   "outputs": [
    {
     "name": "stdout",
     "output_type": "stream",
     "text": [
      "                       1995-01-01   1995-02-01   1995-03-01   1995-04-01  \\\n",
      "City of London        91448.98487  82202.77314  79120.70256  77101.20804   \n",
      "Barking & Dagenham     50460.2266  51085.77983  51268.96956  53133.50526   \n",
      "Barnet                93284.51832  93190.16963  92247.52435  90762.87492   \n",
      "Bexley                64958.09036  64787.92069  64367.49344  64277.66881   \n",
      "Brent                 71306.56698  72022.26197  72015.76274  72965.63094   \n",
      "Bromley               81671.47692  81657.55944  81449.31143  81124.41227   \n",
      "Camden                120932.8881  119508.8622  120282.2131   120097.899   \n",
      "Croydon               69158.16225  68951.09542  68712.44341  68610.04641   \n",
      "Ealing                79885.89069  80897.06551  81379.86288  82188.90498   \n",
      "Enfield               72514.69096  73155.19746  72190.44144  71442.92235   \n",
      "Greenwich             62300.10169  60993.26863  61377.83464   61927.7246   \n",
      "Hackney               61296.52637  63187.08332  63593.29935  65139.64403   \n",
      "Hammersmith & Fulham  124902.8602   122087.718  120635.9467  121424.6241   \n",
      "Haringey              76287.56947  78901.21036  78521.94855  79545.57477   \n",
      "Harrow                84769.52599  83396.10525  83416.23759  83567.88439   \n",
      "Havering              68000.13774  69393.51294  69368.02407  69444.26215   \n",
      "Hillingdon            73834.82964   75031.0696  74188.66949  73911.40591   \n",
      "Hounslow              72231.70537  71051.55852  72097.99411  71890.28339   \n",
      "Islington             92516.48557  94342.37334  93465.86407  93344.49305   \n",
      "Kensington & Chelsea  182694.8326  182345.2463  182878.8231  184176.9168   \n",
      "Kingston upon Thames  80875.84843  81230.13524  81111.48848  81672.80476   \n",
      "Lambeth               67770.98843  65381.51908  66336.51868   66388.7716   \n",
      "Lewisham              60491.26109  60869.27091  60288.03002  59471.03136   \n",
      "Merton                 82070.6133  79982.74872  80661.68279  79990.54333   \n",
      "Newham                53539.31919  53153.88306  53458.26393  54479.75395   \n",
      "Redbridge             72189.58437   72141.6261  72501.35502  72228.60295   \n",
      "Richmond upon Thames  109326.1245  111103.0394  107325.4742       106875   \n",
      "Southwark             67885.20344   64799.0648  65763.29719  63073.62117   \n",
      "Sutton                71536.97357  70893.20851  70306.83844   69411.9439   \n",
      "Tower Hamlets         59865.18995  62318.53353  63938.67686  66233.19383   \n",
      "Waltham Forest        61319.44913  60252.12246  60871.08493  60971.39722   \n",
      "Wandsworth            88559.04381  88641.01678  87124.81523  87026.00225   \n",
      "Westminster           133025.2772  131468.3096  132260.3417  133370.2036   \n",
      "Inner London           78251.9765  75885.70201  76591.59947  76851.56697   \n",
      "Outer London          72958.79836  72937.88262  72714.53478  72591.92469   \n",
      "NORTH EAST            42076.35411  42571.98949  42369.72984   42095.8436   \n",
      "NORTH WEST            43958.48001  43925.42289   44434.8681   44267.7796   \n",
      "YORKS & THE HUMBER    44803.42878  44528.80721  45200.46775  45614.34341   \n",
      "EAST MIDLANDS         45544.52227  46051.57066  45383.82395  46124.23045   \n",
      "WEST MIDLANDS         48527.52339  49341.29029  49442.17973  49455.93299   \n",
      "EAST OF ENGLAND        56701.5961  56593.59475  56171.18278  56567.89582   \n",
      "LONDON                74435.76052  72777.93709  73896.84204  74455.28754   \n",
      "SOUTH EAST            64018.87894  63715.02399  64113.60858  64623.22395   \n",
      "SOUTH WEST             54705.1579  54356.14843  53583.07667  54786.01938   \n",
      "England               53202.77128   53096.1549   53201.2843   53590.8548   \n",
      "\n",
      "                       1995-05-01   1995-06-01   1995-07-01   1995-08-01  \\\n",
      "City of London        84409.14932  94900.51244  110128.0423  112329.4376   \n",
      "Barking & Dagenham    53042.24852  53700.34831  52113.12157  52232.19868   \n",
      "Barnet                90258.00033  90107.23471  91441.24768  92361.31512   \n",
      "Bexley                63997.13588  64252.32335  63722.70055  64432.60005   \n",
      "Brent                 73704.04743  74310.48167  74127.03788   73547.0411   \n",
      "Bromley               81542.61561  82382.83435  82898.52264  82054.37156   \n",
      "Camden                119929.2782  121887.4625  124027.5768  125529.8039   \n",
      "Croydon                68844.9169  69052.51103  69142.48112  68993.42545   \n",
      "Ealing                82077.05525  81630.66181   82352.2226  82706.65927   \n",
      "Enfield               70630.77955  71348.31147  71837.54011  72237.94562   \n",
      "Greenwich             63512.99103  64751.56404  65486.34112  65076.43195   \n",
      "Hackney               66193.99212  66921.17101    68390.753  68096.79385   \n",
      "Hammersmith & Fulham   124433.539  126175.1513  124381.5134  123625.3196   \n",
      "Haringey               79374.0349   79956.3621  80746.34881  81217.69074   \n",
      "Harrow                83853.65615  84173.24689  84226.69844  84430.61796   \n",
      "Havering              68534.52248  68464.60664  68680.83996  69023.36482   \n",
      "Hillingdon            73117.12416  74005.00585  74671.13263  74967.86534   \n",
      "Hounslow              72877.47219  72331.08116  73717.78844  74479.94802   \n",
      "Islington             94346.39917  97428.94311  98976.14077  98951.20791   \n",
      "Kensington & Chelsea  191474.1141  197265.7602  197963.3169  198037.4218   \n",
      "Kingston upon Thames  82123.51084  82205.66822    82525.793  83342.84552   \n",
      "Lambeth               69035.11076  68881.15764  69608.72242  68840.02827   \n",
      "Lewisham              58551.38387  58041.43543  58126.37811   58151.3154   \n",
      "Merton                80873.98643  80704.92667  81055.90335  80781.09186   \n",
      "Newham                55803.95958  56067.76986  55458.31693  54709.35467   \n",
      "Redbridge             72366.64122   72279.4325  72880.83974  73275.16891   \n",
      "Richmond upon Thames  107707.6799  112865.0542  114656.6011  112320.4096   \n",
      "Southwark             64420.49933  64155.81449  67024.74767  65525.94434   \n",
      "Sutton                69759.21989  70125.24728  70789.57284  69958.41918   \n",
      "Tower Hamlets         66432.85846  66232.16372  64692.22672  63472.27558   \n",
      "Waltham Forest        61494.16938  61547.79643  61933.52738   61916.4222   \n",
      "Wandsworth            86518.05945   88114.3351  89830.58934  90560.68078   \n",
      "Westminster           133911.1117  134562.1941  133450.2162  136581.5082   \n",
      "Inner London          79129.19443   79969.1525  80550.47935  80597.64563   \n",
      "Outer London          72752.99414  73189.39978  73665.90517  73691.12888   \n",
      "NORTH EAST            43266.45165  42315.34372  43287.74323  41899.05494   \n",
      "NORTH WEST            44223.61973  44112.96432  44109.58764  44193.66583   \n",
      "YORKS & THE HUMBER    44830.98563  45392.63981  45534.99864  45111.45939   \n",
      "EAST MIDLANDS         45878.00396  45679.99539  46037.67312  45922.53585   \n",
      "WEST MIDLANDS         50369.66188  50100.43023  49860.00809  49598.45969   \n",
      "EAST OF ENGLAND       56479.80183  56288.94557  57242.30186  56732.40547   \n",
      "LONDON                75432.02786  75606.24501  75984.24079  75529.34488   \n",
      "SOUTH EAST            64530.36358    65511.008  65224.88465  64851.60429   \n",
      "SOUTH WEST            54698.83831  54420.15939  54265.86368  54365.71495   \n",
      "England               53678.24041  53735.15475  53900.60633  53600.31975   \n",
      "\n",
      "                       1995-09-01   1995-10-01  ... 2022-08-01 2022-09-01  \\\n",
      "City of London        104473.1096  108038.1181  ...     895191     891856   \n",
      "Barking & Dagenham    51471.61353   51513.7576  ...     348947     349068   \n",
      "Barnet                93273.12245  92567.38498  ...     600058     603826   \n",
      "Bexley                64509.54767  64529.93725  ...     401119     405890   \n",
      "Brent                 73789.54287  73264.05385  ...     559290     578826   \n",
      "Bromley               81440.43008  81862.16087  ...     509977     511157   \n",
      "Camden                120596.8511  117458.4922  ...     863968     864020   \n",
      "Croydon               69393.50023  68934.61234  ...     423862     430346   \n",
      "Ealing                82011.08271  80522.66054  ...     539015     540273   \n",
      "Enfield               71725.22104  72349.13744  ...     450516     454603   \n",
      "Greenwich             63996.81525  63405.26599  ...     431811     438847   \n",
      "Hackney               68752.50284  67619.65052  ...     649147     649326   \n",
      "Hammersmith & Fulham  123094.0484    123442.56  ...     814005     810993   \n",
      "Haringey              82142.89052  81791.48237  ...     595872     613314   \n",
      "Harrow                83606.97863  82492.72882  ...     531562     530765   \n",
      "Havering                68108.186  67425.63891  ...     421561     427189   \n",
      "Hillingdon            73843.55239  72992.50159  ...     461118     466713   \n",
      "Hounslow               74426.6609  73643.14027  ...     452454     457199   \n",
      "Islington             99582.63778  97580.38673  ...     720745     732984   \n",
      "Kensington & Chelsea  197047.8333  200005.8308  ...    1513634    1512581   \n",
      "Kingston upon Thames  85110.96835  85726.97473  ...     552915     565860   \n",
      "Lambeth               70155.81997  69616.18689  ...     556720     561673   \n",
      "Lewisham              58742.99034  58073.14016  ...     469124     464838   \n",
      "Merton                80824.70075  79569.22895  ...     581908     584791   \n",
      "Newham                54585.50364  54789.55504  ...     412022     414956   \n",
      "Redbridge             73204.02373  72917.47147  ...     485548     485115   \n",
      "Richmond upon Thames  110424.5703  108406.7006  ...     765263     766821   \n",
      "Southwark             63467.00948  60885.98483  ...     553743     557600   \n",
      "Sutton                69937.40214  69963.76558  ...     440771     442561   \n",
      "Tower Hamlets         62177.59435  62066.45135  ...     471290     483420   \n",
      "Waltham Forest        61548.15206  60572.57036  ...     523184     524538   \n",
      "Wandsworth             91373.6984  90246.40944  ...     646712     656308   \n",
      "Westminster           135993.0705  134513.3863  ...    1003720     988568   \n",
      "Inner London             80402.85  79681.52637  ...     632014     636692   \n",
      "Outer London          73454.44292   72971.6484  ...     490401     494685   \n",
      "NORTH EAST            41850.85646  41688.16474  ...     160014     160932   \n",
      "NORTH WEST            44088.07696  43109.99448  ...     215003     216998   \n",
      "YORKS & THE HUMBER    44837.86023   44309.9991  ...     209116     210869   \n",
      "EAST MIDLANDS         45771.66321  45154.71999  ...     249886     250992   \n",
      "WEST MIDLANDS         49319.69715  49597.93617  ...     251050     253156   \n",
      "EAST OF ENGLAND       56259.28635  55240.28898  ...     356406     358758   \n",
      "LONDON                74940.80872   74302.0803  ...     543857     544539   \n",
      "SOUTH EAST            64352.47119  64125.80591  ...     396515     399148   \n",
      "SOUTH WEST            54243.98694   54264.6064  ...     332612     334452   \n",
      "England                53309.2331   52844.6207  ...     309929     311887   \n",
      "\n",
      "                     2022-10-01 2022-11-01 2022-12-01 2023-01-01 2023-02-01  \\\n",
      "City of London           910919     952455     953985     975882     859596   \n",
      "Barking & Dagenham       351895     355302     356364     351617     344624   \n",
      "Barnet                   600421     591786     593527     597556     601264   \n",
      "Bexley                   410403     410084     409705     402801     402458   \n",
      "Brent                    570909     562166     548945     543410     531709   \n",
      "Bromley                  515361     514626     514113     511201     505085   \n",
      "Camden                   852263     841863     849085     847161     858624   \n",
      "Croydon                  432259     430516     429317     429903     426516   \n",
      "Ealing                   536050     534595     533921     533464     537496   \n",
      "Enfield                  461278     460052     459903     450330     445631   \n",
      "Greenwich                441643     442248     436089     437325     446542   \n",
      "Hackney                  646715     644211     627688     624666     618870   \n",
      "Hammersmith & Fulham     788417     757113     740178     767087     765845   \n",
      "Haringey                 611513     612861     605433     602149     590811   \n",
      "Harrow                   526998     528244     532056     532879     525954   \n",
      "Havering                 428359     434070     436844     435992     434918   \n",
      "Hillingdon               472771     474136     467236     463352     459795   \n",
      "Hounslow                 459076     461657     453533     464925     467294   \n",
      "Islington                729445     714502     703949     693372     682166   \n",
      "Kensington & Chelsea    1396146    1365078    1297372    1346508    1324190   \n",
      "Kingston upon Thames     566077     561403     556370     558485     558630   \n",
      "Lambeth                  558166     555388     550675     551126     552872   \n",
      "Lewisham                 462172     462810     469998     466708     464973   \n",
      "Merton                   577408     579631     574785     568485     573324   \n",
      "Newham                   417467     425544     424001     423873     415452   \n",
      "Redbridge                483205     482086     485373     483651     478298   \n",
      "Richmond upon Thames     766984     749786     738772     745247     758771   \n",
      "Southwark                555766     561167     557331     559844     545411   \n",
      "Sutton                   441612     440754     436885     442557     441057   \n",
      "Tower Hamlets            487553     491668     492795     492955     497802   \n",
      "Waltham Forest           525389     517315     515443     510587     513410   \n",
      "Wandsworth               654137     640034     631954     629887     633028   \n",
      "Westminster              975233     975898     984431     975062     953523   \n",
      "Inner London             631250     627294     622388     622900     618689   \n",
      "Outer London             495583     494084     491926     490880     490063   \n",
      "NORTH EAST               161424     161086     159190     160734     157742   \n",
      "NORTH WEST               217275     217597     216496     213555     213307   \n",
      "YORKS & THE HUMBER       211358     211266     210690     205667     206563   \n",
      "EAST MIDLANDS            250711     251258     252628     249322     246864   \n",
      "WEST MIDLANDS            254289     252491     253105     251719     253518   \n",
      "EAST OF ENGLAND          358038     359498     357350     354427     356069   \n",
      "LONDON                   536536     537005     535407     534866     531194   \n",
      "SOUTH EAST               399045     396135     398002     397168     392885   \n",
      "SOUTH WEST               333421     334118     327812     326642     326456   \n",
      "England                  311412     311123     310116     307857     306905   \n",
      "\n",
      "                     2023-03-01 2023-04-01 2023-05-01  \n",
      "City of London           913125     909865     988117  \n",
      "Barking & Dagenham       343627     350605     355594  \n",
      "Barnet                   592841     586352     579798  \n",
      "Bexley                   400633     403841     400221  \n",
      "Brent                    526459     531722     524395  \n",
      "Bromley                  500433     503759     503691  \n",
      "Camden                   848401     882916     860920  \n",
      "Croydon                  420329     413163     412288  \n",
      "Ealing                   524251     529096     527622  \n",
      "Enfield                  439706     441154     445676  \n",
      "Greenwich                445594     436235     419857  \n",
      "Hackney                  638577     632111     646689  \n",
      "Hammersmith & Fulham     774914     762990     787893  \n",
      "Haringey                 592114     593636     605643  \n",
      "Harrow                   516519     512978     512866  \n",
      "Havering                 430008     430125     421725  \n",
      "Hillingdon               456098     455023     453689  \n",
      "Hounslow                 464465     457954     444127  \n",
      "Islington                681591     688161     690034  \n",
      "Kensington & Chelsea    1333287    1291484    1314120  \n",
      "Kingston upon Thames     560350     554854     552129  \n",
      "Lambeth                  555046     555288     545537  \n",
      "Lewisham                 456676     458791     442180  \n",
      "Merton                   567343     579014     564071  \n",
      "Newham                   400958     403068     415092  \n",
      "Redbridge                474869     466929     460849  \n",
      "Richmond upon Thames     755805     759500     756534  \n",
      "Southwark                534397     527424     535043  \n",
      "Sutton                   438159     433467     430883  \n",
      "Tower Hamlets            498687     502228     501583  \n",
      "Waltham Forest           509228     513281     504472  \n",
      "Wandsworth               626434     621489     628961  \n",
      "Westminster              901497     894854     921609  \n",
      "Inner London             614043     612992     616323  \n",
      "Outer London             485403     484585     480151  \n",
      "NORTH EAST               156063     160320     158779  \n",
      "NORTH WEST               210590     212186     211790  \n",
      "YORKS & THE HUMBER       203504     205334     204588  \n",
      "EAST MIDLANDS            246319     246561     247242  \n",
      "WEST MIDLANDS            244290     246938     248166  \n",
      "EAST OF ENGLAND          350952     348346     345710  \n",
      "LONDON                   521351     532175     525629  \n",
      "SOUTH EAST               393057     392293     388873  \n",
      "SOUTH WEST               325401     324560     323765  \n",
      "England                  303321     304924     303557  \n",
      "\n",
      "[45 rows x 341 columns]\n"
     ]
    }
   ],
   "source": [
    "properties = properties[properties.index.notnull()]\n",
    "properties.dropna(axis=1, how='all', inplace=True)\n",
    "properties = properties.transpose()\n",
    "print(properties)"
   ]
  },
  {
   "cell_type": "markdown",
   "metadata": {
    "colab_type": "text",
    "id": "o1uLbJAsoIjK"
   },
   "source": [
    "**2.3. Cleaning the data (part 2)**\n",
    "\n",
    "You might we have to **rename** a couple columns. How do you do this? The clue's pretty bold..."
   ]
  },
  {
   "cell_type": "code",
   "execution_count": null,
   "metadata": {},
   "outputs": [],
   "source": []
  },
  {
   "cell_type": "markdown",
   "metadata": {
    "colab_type": "text",
    "id": "jy8BzXHmoWEw"
   },
   "source": [
    "**2.4.Transforming the data**\n",
    "\n",
    "Remember what Wes McKinney said about tidy data? \n",
    "\n",
    "You might need to **melt** your DataFrame here. "
   ]
  },
  {
   "cell_type": "code",
   "execution_count": 311,
   "metadata": {
    "colab": {},
    "colab_type": "code",
    "id": "S2wM0qLuo2Zt"
   },
   "outputs": [
    {
     "name": "stdout",
     "output_type": "stream",
     "text": [
      "                  Borough       Date Avg House Price\n",
      "0          City of London 1995-01-01     91448.98487\n",
      "1      Barking & Dagenham 1995-01-01      50460.2266\n",
      "2                  Barnet 1995-01-01     93284.51832\n",
      "3                  Bexley 1995-01-01     64958.09036\n",
      "4                   Brent 1995-01-01     71306.56698\n",
      "...                   ...        ...             ...\n",
      "15340     EAST OF ENGLAND 2023-05-01          345710\n",
      "15341              LONDON 2023-05-01          525629\n",
      "15342          SOUTH EAST 2023-05-01          388873\n",
      "15343          SOUTH WEST 2023-05-01          323765\n",
      "15344             England 2023-05-01          303557\n",
      "\n",
      "[15345 rows x 3 columns]\n"
     ]
    }
   ],
   "source": [
    "prop_melt = properties.melt(var_name='Date', value_name='Avg House Price', ignore_index=False)\n",
    "prop_melt.reset_index(names='Borough', inplace=True)\n",
    "print(prop_melt)"
   ]
  },
  {
   "cell_type": "markdown",
   "metadata": {
    "colab_type": "text",
    "id": "7kIsgAo7o3mf"
   },
   "source": [
    "Remember to make sure your column data types are all correct. Average prices, for example, should be floating point numbers... "
   ]
  },
  {
   "cell_type": "code",
   "execution_count": 312,
   "metadata": {},
   "outputs": [
    {
     "name": "stdout",
     "output_type": "stream",
     "text": [
      "                              Avg House Price\n",
      "Borough            Date                      \n",
      "City of London     1995-01-01     91448.98487\n",
      "Barking & Dagenham 1995-01-01      50460.2266\n",
      "Barnet             1995-01-01     93284.51832\n",
      "Bexley             1995-01-01     64958.09036\n",
      "Brent              1995-01-01     71306.56698\n",
      "...                                       ...\n",
      "EAST OF ENGLAND    2023-05-01          345710\n",
      "LONDON             2023-05-01          525629\n",
      "SOUTH EAST         2023-05-01          388873\n",
      "SOUTH WEST         2023-05-01          323765\n",
      "England            2023-05-01          303557\n",
      "\n",
      "[15345 rows x 1 columns]\n"
     ]
    }
   ],
   "source": [
    "prop_multi = prop_melt.set_index(['Borough','Date'])\n",
    "print(prop_multi)"
   ]
  },
  {
   "cell_type": "markdown",
   "metadata": {
    "colab_type": "text",
    "id": "knLUXHLypOtw"
   },
   "source": [
    "**2.5. Cleaning the data (part 3)**\n",
    "\n",
    "Do we have an equal number of observations in the ID, Average Price, Month, and London Borough columns? Remember that there are only 32 London Boroughs. How many entries do you have in that column? \n",
    "\n",
    "Check out the contents of the London Borough column, and if you find null values, get rid of them however you see fit. "
   ]
  },
  {
   "cell_type": "code",
   "execution_count": 313,
   "metadata": {
    "colab": {},
    "colab_type": "code",
    "id": "BnvTW5a3p0fC"
   },
   "outputs": [
    {
     "name": "stdout",
     "output_type": "stream",
     "text": [
      "Borough            0\n",
      "Date               0\n",
      "Avg House Price    0\n",
      "dtype: int64\n"
     ]
    }
   ],
   "source": [
    "print(prop_melt.isna().sum())"
   ]
  },
  {
   "cell_type": "markdown",
   "metadata": {
    "colab_type": "text",
    "id": "PGEx6mJsp6dG"
   },
   "source": [
    "**2.6. Visualizing the data**\n",
    "\n",
    "To visualize the data, why not subset on a particular London Borough? Maybe do a line plot of Month against Average Price?"
   ]
  },
  {
   "cell_type": "code",
   "execution_count": 314,
   "metadata": {
    "colab": {},
    "colab_type": "code",
    "id": "nAg5pT9cqHAR"
   },
   "outputs": [
    {
     "data": {
      "text/plain": [
       "<Axes: xlabel='Date'>"
      ]
     },
     "execution_count": 314,
     "metadata": {},
     "output_type": "execute_result"
    },
    {
     "data": {
      "image/png": "[encoded data removed]",
      "text/plain": [
       "<Figure size 640x480 with 1 Axes>"
      ]
     },
     "metadata": {},
     "output_type": "display_data"
    }
   ],
   "source": [
    "prop_multi.loc[('City of London','1995')].plot(kind='line')"
   ]
  },
  {
   "cell_type": "markdown",
   "metadata": {
    "colab_type": "text",
    "id": "aWTPqSJeqHnC"
   },
   "source": [
    "To limit the number of data points you have, you might want to extract the year from every month value your *Month* column. \n",
    "\n",
    "To this end, you *could* apply a ***lambda function***. Your logic could work as follows:\n",
    "1. look through the `Month` column\n",
    "2. extract the year from each individual value in that column \n",
    "3. store that corresponding year as separate column. \n",
    "\n",
    "Whether you go ahead with this is up to you. Just so long as you answer our initial brief: which boroughs of London have seen the greatest house price increase, on average, over the past two decades? "
   ]
  },
  {
   "cell_type": "code",
   "execution_count": 315,
   "metadata": {
    "colab": {},
    "colab_type": "code",
    "id": "e0DF92cyqnu8"
   },
   "outputs": [],
   "source": [
    "## Question about prop_multi\n",
    "#for i in prop_melt['Borough'].unique():\n",
    "#    print(i)\n",
    "#for i in prop_melt['Date'].dt.year.unique() :\n",
    "#    print(i)"
   ]
  },
  {
   "cell_type": "markdown",
   "metadata": {
    "colab_type": "text",
    "id": "2knuTxAEqoJ4"
   },
   "source": [
    "**3. Modeling**\n",
    "\n",
    "Consider creating a function that will calculate a ratio of house prices, comparing the price of a house in 2018 to the price in 1998.\n",
    "\n",
    "Consider calling this function create_price_ratio.\n",
    "\n",
    "You'd want this function to:\n",
    "1. Take a filter of dfg, specifically where this filter constrains the London_Borough, as an argument. For example, one admissible argument should be: dfg[dfg['London_Borough']=='Camden'].\n",
    "2. Get the Average Price for that Borough, for the years 1998 and 2018.\n",
    "4. Calculate the ratio of the Average Price for 1998 divided by the Average Price for 2018.\n",
    "5. Return that ratio.\n",
    "\n",
    "Once you've written this function, you ultimately want to use it to iterate through all the unique London_Boroughs and work out the ratio capturing the difference of house prices between 1998 and 2018.\n",
    "\n",
    "Bear in mind: you don't have to write a function like this if you don't want to. If you can solve the brief otherwise, then great! \n",
    "\n",
    "***Hint***: This section should test the skills you acquired in:\n",
    "- Python Data Science Toolbox - Part One, all modules"
   ]
  },
  {
   "cell_type": "code",
   "execution_count": 316,
   "metadata": {
    "colab": {},
    "colab_type": "code",
    "id": "cKTyr437UgDa"
   },
   "outputs": [
    {
     "name": "stdout",
     "output_type": "stream",
     "text": [
      "Ratio of City of London is 530.16%\n",
      "Ratio of Barking & Dagenham is 489.66%\n",
      "Ratio of Barnet is 435.82%\n",
      "Ratio of Bexley is 424.9%\n",
      "Ratio of Brent is 489.46%\n",
      "Ratio of Bromley is 409.48%\n",
      "Ratio of Camden is 493.54%\n",
      "Ratio of Croydon is 420.11%\n",
      "Ratio of Ealing is 431.15%\n",
      "Ratio of Enfield is 426.35%\n",
      "Ratio of Greenwich is 476.3%\n",
      "Ratio of Hackney is 619.83%\n",
      "Ratio of Hammersmith & Fulham is 413.78%\n",
      "Ratio of Haringey is 513.46%\n",
      "Ratio of Harrow is 405.92%\n",
      "Ratio of Havering is 432.52%\n",
      "Ratio of Hillingdon is 420.03%\n",
      "Ratio of Hounslow is 397.64%\n",
      "Ratio of Islington is 484.4%\n",
      "Ratio of Kensington & Chelsea is 508.25%\n",
      "Ratio of Kingston upon Thames is 427.05%\n",
      "Ratio of Lambeth is 495.78%\n",
      "Ratio of Lewisham is 544.92%\n",
      "Ratio of Merton is 474.13%\n",
      "Ratio of Newham is 530.54%\n",
      "Ratio of Redbridge is 447.12%\n",
      "Ratio of Richmond upon Thames is 400.52%\n",
      "Ratio of Southwark is 551.65%\n",
      "Ratio of Sutton is 411.85%\n",
      "Ratio of Tower Hamlets is 462.67%\n",
      "Ratio of Waltham Forest is 583.48%\n",
      "Ratio of Wandsworth is 475.77%\n",
      "Ratio of Westminster is 535.36%\n",
      "Ratio of Inner London is 517.09%\n",
      "Ratio of Outer London is 441.89%\n",
      "Ratio of NORTH EAST is 282.81%\n",
      "Ratio of NORTH WEST is 336.34%\n",
      "Ratio of YORKS & THE HUMBER is 335.61%\n",
      "Ratio of EAST MIDLANDS is 363.27%\n",
      "Ratio of WEST MIDLANDS is 331.13%\n",
      "Ratio of EAST OF ENGLAND is 416.69%\n",
      "Ratio of LONDON is 467.98%\n",
      "Ratio of SOUTH EAST is 382.84%\n",
      "Ratio of SOUTH WEST is 379.55%\n",
      "Ratio of England is 381.05%\n",
      "Hackney has the highest ratio with 619.83%\n"
     ]
    }
   ],
   "source": [
    "def ratio(borough):\n",
    "    ratio_dif = (prop_multi.loc[(borough,'2018')].mean() / prop_multi.loc[(borough,'1998')].mean()).values[0]\n",
    "    ratio_dif = ratio_dif * 100\n",
    "    return round(ratio_dif, 2)\n",
    "highest = {'borough':'na','perc':0}\n",
    "for borough in prop_melt['Borough'].unique():\n",
    "    ratio_val = ratio(borough)\n",
    "    print(f'Ratio of {borough} is {ratio_val}%')\n",
    "    if ratio_val > highest['perc']:\n",
    "        highest['borough'] = borough\n",
    "        highest['perc'] = ratio_val\n",
    "print(f'{highest[\"borough\"]} has the highest ratio with {highest[\"perc\"]}%')"
   ]
  },
  {
   "cell_type": "markdown",
   "metadata": {
    "colab_type": "text",
    "id": "NzYUI7FxJpgv"
   },
   "source": [
    "### 4. Conclusion\n",
    "What can you conclude? Type out your conclusion below. \n",
    "\n",
    "Look back at your notebook. Think about how you might summarize what you have done, and prepare a quick presentation on it to your mentor at your next meeting. \n",
    "\n",
    "We hope you enjoyed this practical project. It should have consolidated your data hygiene and pandas skills by looking at a real-world problem involving just the kind of dataset you might encounter as a budding data scientist. Congratulations, and looking forward to seeing you at the next step in the course! "
   ]
  }
 ],
 "metadata": {
  "colab": {
   "collapsed_sections": [],
   "name": "Springboard Data Science Career Track Unit 4 Challenge - Tier 3 Complete .ipynb",
   "provenance": []
  },
  "kernelspec": {
   "display_name": "Python 3 (ipykernel)",
   "language": "python",
   "name": "python3"
  },
  "language_info": {
   "codemirror_mode": {
    "name": "ipython",
    "version": 3
   },
   "file_extension": ".py",
   "mimetype": "text/x-python",
   "name": "python",
   "nbconvert_exporter": "python",
   "pygments_lexer": "ipython3",
   "version": "3.11.3"
  }
 },
 "nbformat": 4,
 "nbformat_minor": 1
}
