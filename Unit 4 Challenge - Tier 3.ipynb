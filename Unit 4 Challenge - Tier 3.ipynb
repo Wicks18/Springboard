{
 "cells": [
  {
   "cell_type": "markdown",
   "metadata": {
    "colab_type": "text",
    "id": "Tia3MP1SJpgj"
   },
   "source": [
    "# Springboard Data Science Career Track Unit 4 Challenge - Tier 3 Complete\n",
    "\n",
    "## Objectives\n",
    "Hey! Great job getting through those challenging DataCamp courses. You're learning a lot in a short span of time. \n",
    "\n",
    "In this notebook, you're going to apply the skills you've been learning, bridging the gap between the controlled environment of DataCamp and the *slightly* messier work that data scientists do with actual datasets!\n",
    "\n",
    "Here’s the mystery we’re going to solve: ***which boroughs of London have seen the greatest increase in housing prices, on average, over the last two decades?***\n",
    "\n",
    "\n",
    "A borough is just a fancy word for district. You may be familiar with the five boroughs of New York… well, there are 32 boroughs within Greater London [(here's some info for the curious)](https://en.wikipedia.org/wiki/London_boroughs). Some of them are more desirable areas to live in, and the data will reflect that with a greater rise in housing prices.\n",
    "\n",
    "***This is the Tier 3 notebook, which means it's not filled in at all: we'll just give you the skeleton of a project, the brief and the data. It's up to you to play around with it and see what you can find out! Good luck! If you struggle, feel free to look at easier tiers for help; but try to dip in and out of them, as the more independent work you do, the better it is for your learning!***\n",
    "\n",
    "This challenge will make use of only what you learned in the following DataCamp courses: \n",
    "- Prework courses (Introduction to Python for Data Science, Intermediate Python for Data Science)\n",
    "- Data Types for Data Science\n",
    "- Python Data Science Toolbox (Part One) \n",
    "- pandas Foundations\n",
    "- Manipulating DataFrames with pandas\n",
    "- Merging DataFrames with pandas\n",
    "\n",
    "Of the tools, techniques and concepts in the above DataCamp courses, this challenge should require the application of the following: \n",
    "- **pandas**\n",
    "    - **data ingestion and inspection** (pandas Foundations, Module One) \n",
    "    - **exploratory data analysis** (pandas Foundations, Module Two)\n",
    "    - **tidying and cleaning** (Manipulating DataFrames with pandas, Module Three) \n",
    "    - **transforming DataFrames** (Manipulating DataFrames with pandas, Module One)\n",
    "    - **subsetting DataFrames with lists** (Manipulating DataFrames with pandas, Module One) \n",
    "    - **filtering DataFrames** (Manipulating DataFrames with pandas, Module One) \n",
    "    - **grouping data** (Manipulating DataFrames with pandas, Module Four) \n",
    "    - **melting data** (Manipulating DataFrames with pandas, Module Three) \n",
    "    - **advanced indexing** (Manipulating DataFrames with pandas, Module Four) \n",
    "- **matplotlib** (Intermediate Python for Data Science, Module One)\n",
    "- **fundamental data types** (Data Types for Data Science, Module One) \n",
    "- **dictionaries** (Intermediate Python for Data Science, Module Two)\n",
    "- **handling dates and times** (Data Types for Data Science, Module Four)\n",
    "- **function definition** (Python Data Science Toolbox - Part One, Module One)\n",
    "- **default arguments, variable length, and scope** (Python Data Science Toolbox - Part One, Module Two) \n",
    "- **lambda functions and error handling** (Python Data Science Toolbox - Part One, Module Four) "
   ]
  },
  {
   "cell_type": "markdown",
   "metadata": {
    "colab_type": "text",
    "id": "Ipgd2nV8Jpgl"
   },
   "source": [
    "## The Data Science Pipeline\n",
    "\n",
    "This is Tier Three, so we'll get you started. But after that, it's all in your hands! When you feel done with your investigations, look back over what you've accomplished, and prepare a quick presentation of your findings for the next mentor meeting. \n",
    "\n",
    "Data Science is magical. In this case study, you'll get to apply some complex machine learning algorithms. But as  [David Spiegelhalter](https://www.youtube.com/watch?v=oUs1uvsz0Ok) reminds us, there is no substitute for simply **taking a really, really good look at the data.** Sometimes, this is all we need to answer our question.\n",
    "\n",
    "Data Science projects generally adhere to the four stages of Data Science Pipeline:\n",
    "1. Sourcing and loading \n",
    "2. Cleaning, transforming, and visualizing \n",
    "3. Modeling \n",
    "4. Evaluating and concluding \n"
   ]
  },
  {
   "cell_type": "markdown",
   "metadata": {
    "colab_type": "text",
    "id": "zswDqbefJpgm"
   },
   "source": [
    "### 1. Sourcing and Loading \n",
    "\n",
    "Any Data Science project kicks off by importing  ***pandas***. The documentation of this wonderful library can be found [here](https://pandas.pydata.org/). As you've seen, pandas is conveniently connected to the [Numpy](http://www.numpy.org/) and [Matplotlib](https://matplotlib.org/) libraries. \n",
    "\n",
    "***Hint:*** This part of the data science pipeline will test those skills you acquired in the pandas Foundations course, Module One. "
   ]
  },
  {
   "cell_type": "markdown",
   "metadata": {
    "colab_type": "text",
    "id": "aEau5nEvJpgm"
   },
   "source": [
    "#### 1.1. Importing Libraries"
   ]
  },
  {
   "cell_type": "code",
   "execution_count": 2,
   "metadata": {
    "colab": {},
    "colab_type": "code",
    "id": "7Bt_Q_oPJpgn"
   },
   "outputs": [],
   "source": [
    "# Let's import the pandas, numpy libraries as pd, and np respectively. \n",
    "import pandas as pd\n",
    "import numpy as np\n",
    "\n",
    "# Load the pyplot collection of functions from matplotlib, as plt \n",
    "import matplotlib as plt"
   ]
  },
  {
   "cell_type": "markdown",
   "metadata": {
    "colab_type": "text",
    "id": "koUrawxsJpgq"
   },
   "source": [
    "#### 1.2.  Loading the data\n",
    "Your data comes from the [London Datastore](https://data.london.gov.uk/): a free, open-source data-sharing portal for London-oriented datasets. "
   ]
  },
  {
   "cell_type": "code",
   "execution_count": 3,
   "metadata": {
    "colab": {},
    "colab_type": "code",
    "id": "AiLiD4v3Jpgr"
   },
   "outputs": [],
   "source": [
    "# First, make a variable called url_LondonHousePrices, and assign it the following link, enclosed in quotation-marks as a string:\n",
    "# https://data.london.gov.uk/download/uk-house-price-index/70ac0766-8902-4eb5-aab5-01951aaed773/UK%20House%20price%20index.xls\n",
    "\n",
    "url_LondonHousePrices = \"https://data.london.gov.uk/download/uk-house-price-index/70ac0766-8902-4eb5-aab5-01951aaed773/UK%20House%20price%20index.xls\"\n",
    "\n",
    "# The dataset we're interested in contains the Average prices of the houses, and is actually on a particular sheet of the Excel file. \n",
    "# As a result, we need to specify the sheet name in the read_excel() method.\n",
    "# Put this data into a variable called properties.  \n",
    "\n",
    "properties = pd.read_excel(url_LondonHousePrices, sheet_name='Average price', index_col= [0])"
   ]
  },
  {
   "cell_type": "markdown",
   "metadata": {
    "colab_type": "text",
    "id": "POukEJXgJpgu"
   },
   "source": [
    "### 2. Cleaning, transforming, and visualizing\n",
    "This second stage is arguably the most important part of any Data Science project. The first thing to do is take a proper look at the data. Cleaning forms the majority of this stage, and can be done both before or after Transformation.\n",
    "\n",
    "The end goal of data cleaning is to have tidy data. When data is tidy: \n",
    "\n",
    "1. Each variable has a column.\n",
    "2. Each observation forms a row.\n",
    "\n",
    "Keep the end goal in mind as you move through this process, every step will take you closer. \n",
    "\n",
    "\n",
    "\n",
    "***Hint:*** This part of the data science pipeline should test those skills you acquired in: \n",
    "- Intermediate Python for data science, all modules.\n",
    "- pandas Foundations, all modules. \n",
    "- Manipulating DataFrames with pandas, all modules.\n",
    "- Data Types for Data Science, Module Four.\n",
    "- Python Data Science Toolbox - Part One, all modules"
   ]
  },
  {
   "cell_type": "markdown",
   "metadata": {
    "colab_type": "text",
    "id": "Te0Q548tnzZa"
   },
   "source": [
    "**2.1. Exploring your data** \n",
    "\n",
    "Think about your pandas functions for checking out a dataframe. "
   ]
  },
  {
   "cell_type": "code",
   "execution_count": 4,
   "metadata": {
    "colab": {},
    "colab_type": "code",
    "id": "Rxirxw_qoAJa"
   },
   "outputs": [
    {
     "name": "stdout",
     "output_type": "stream",
     "text": [
      "           City of London Barking & Dagenham       Barnet       Bexley  \\\n",
      "NaT             E09000001          E09000002    E09000003    E09000004   \n",
      "1995-01-01    91448.98487         50460.2266  93284.51832  64958.09036   \n",
      "1995-02-01    82202.77314        51085.77983  93190.16963  64787.92069   \n",
      "1995-03-01    79120.70256        51268.96956  92247.52435  64367.49344   \n",
      "1995-04-01    77101.20804        53133.50526  90762.87492  64277.66881   \n",
      "\n",
      "                  Brent      Bromley       Camden      Croydon       Ealing  \\\n",
      "NaT           E09000005    E09000006    E09000007    E09000008    E09000009   \n",
      "1995-01-01  71306.56698  81671.47692  120932.8881  69158.16225  79885.89069   \n",
      "1995-02-01  72022.26197  81657.55944  119508.8622  68951.09542  80897.06551   \n",
      "1995-03-01  72015.76274  81449.31143  120282.2131  68712.44341  81379.86288   \n",
      "1995-04-01  72965.63094  81124.41227   120097.899  68610.04641  82188.90498   \n",
      "\n",
      "                Enfield  ...   NORTH WEST YORKS & THE HUMBER EAST MIDLANDS  \\\n",
      "NaT           E09000010  ...    E12000002          E12000003     E12000004   \n",
      "1995-01-01  72514.69096  ...  43958.48001        44803.42878   45544.52227   \n",
      "1995-02-01  73155.19746  ...  43925.42289        44528.80721   46051.57066   \n",
      "1995-03-01  72190.44144  ...   44434.8681        45200.46775   45383.82395   \n",
      "1995-04-01  71442.92235  ...   44267.7796        45614.34341   46124.23045   \n",
      "\n",
      "           WEST MIDLANDS EAST OF ENGLAND       LONDON   SOUTH EAST  \\\n",
      "NaT            E12000005       E12000006    E12000007    E12000008   \n",
      "1995-01-01   48527.52339      56701.5961  74435.76052  64018.87894   \n",
      "1995-02-01   49341.29029     56593.59475  72777.93709  63715.02399   \n",
      "1995-03-01   49442.17973     56171.18278  73896.84204  64113.60858   \n",
      "1995-04-01   49455.93299     56567.89582  74455.28754  64623.22395   \n",
      "\n",
      "             SOUTH WEST Unnamed: 47      England  \n",
      "NaT           E12000009         NaN    E92000001  \n",
      "1995-01-01   54705.1579         NaN  53202.77128  \n",
      "1995-02-01  54356.14843         NaN   53096.1549  \n",
      "1995-03-01  53583.07667         NaN   53201.2843  \n",
      "1995-04-01  54786.01938         NaN   53590.8548  \n",
      "\n",
      "[5 rows x 48 columns]\n",
      "City of London            0\n",
      "Barking & Dagenham        0\n",
      "Barnet                    0\n",
      "Bexley                    0\n",
      "Brent                     0\n",
      "Bromley                   0\n",
      "Camden                    0\n",
      "Croydon                   0\n",
      "Ealing                    0\n",
      "Enfield                   0\n",
      "Greenwich                 0\n",
      "Hackney                   0\n",
      "Hammersmith & Fulham      0\n",
      "Haringey                  0\n",
      "Harrow                    0\n",
      "Havering                  0\n",
      "Hillingdon                0\n",
      "Hounslow                  0\n",
      "Islington                 0\n",
      "Kensington & Chelsea      0\n",
      "Kingston upon Thames      0\n",
      "Lambeth                   0\n",
      "Lewisham                  0\n",
      "Merton                    0\n",
      "Newham                    0\n",
      "Redbridge                 0\n",
      "Richmond upon Thames      0\n",
      "Southwark                 0\n",
      "Sutton                    0\n",
      "Tower Hamlets             0\n",
      "Waltham Forest            0\n",
      "Wandsworth                0\n",
      "Westminster               0\n",
      "Unnamed: 34             343\n",
      "Inner London              0\n",
      "Outer London              0\n",
      "Unnamed: 37             343\n",
      "NORTH EAST                0\n",
      "NORTH WEST                0\n",
      "YORKS & THE HUMBER        0\n",
      "EAST MIDLANDS             0\n",
      "WEST MIDLANDS             0\n",
      "EAST OF ENGLAND           0\n",
      "LONDON                    0\n",
      "SOUTH EAST                0\n",
      "SOUTH WEST                0\n",
      "Unnamed: 47             343\n",
      "England                   0\n",
      "dtype: int64\n"
     ]
    }
   ],
   "source": [
    "print(properties.head())\n",
    "print(properties.isna().sum())"
   ]
  },
  {
   "cell_type": "markdown",
   "metadata": {
    "colab_type": "text",
    "id": "tE9Sqt9-oAta"
   },
   "source": [
    "**2.2. Cleaning the data**\n",
    "\n",
    "You might find you need to transpose your dataframe, check out what its row indexes are, and reset the index. You  also might find you need to assign the values of the first row to your column headings  . (Hint: recall the .columns feature of DataFrames, as well as the iloc[] method).\n",
    "\n",
    "Don't be afraid to use StackOverflow for help  with this."
   ]
  },
  {
   "cell_type": "code",
   "execution_count": 5,
   "metadata": {
    "colab": {},
    "colab_type": "code",
    "id": "cdAu1A3YoH_r"
   },
   "outputs": [
    {
     "name": "stdout",
     "output_type": "stream",
     "text": [
      "                     1995-01-01   1995-02-01   1995-03-01   1995-04-01  \\\n",
      "City of London      91448.98487  82202.77314  79120.70256  77101.20804   \n",
      "Barking & Dagenham   50460.2266  51085.77983  51268.96956  53133.50526   \n",
      "Barnet              93284.51832  93190.16963  92247.52435  90762.87492   \n",
      "Bexley              64958.09036  64787.92069  64367.49344  64277.66881   \n",
      "Brent               71306.56698  72022.26197  72015.76274  72965.63094   \n",
      "\n",
      "                     1995-05-01   1995-06-01   1995-07-01   1995-08-01  \\\n",
      "City of London      84409.14932  94900.51244  110128.0423  112329.4376   \n",
      "Barking & Dagenham  53042.24852  53700.34831  52113.12157  52232.19868   \n",
      "Barnet              90258.00033  90107.23471  91441.24768  92361.31512   \n",
      "Bexley              63997.13588  64252.32335  63722.70055  64432.60005   \n",
      "Brent               73704.04743  74310.48167  74127.03788   73547.0411   \n",
      "\n",
      "                     1995-09-01   1995-10-01  ... 2022-09-01 2022-10-01  \\\n",
      "City of London      104473.1096  108038.1181  ...     892558     911172   \n",
      "Barking & Dagenham  51471.61353   51513.7576  ...     347323     350138   \n",
      "Barnet              93273.12245  92567.38498  ...     602339     599296   \n",
      "Bexley              64509.54767  64529.93725  ...     406183     410677   \n",
      "Brent               73789.54287  73264.05385  ...     577581     569656   \n",
      "\n",
      "                   2022-11-01 2022-12-01 2023-01-01 2023-02-01 2023-03-01  \\\n",
      "City of London         952194     953962     975524     859323     910666   \n",
      "Barking & Dagenham     353968     356131     352116     344414     343709   \n",
      "Barnet                 593031     593804     597651     601278     593957   \n",
      "Bexley                 409367     408708     401081     400870     399844   \n",
      "Brent                  564091     553092     549679     535593     529308   \n",
      "\n",
      "                   2023-04-01 2023-05-01 2023-06-01  \n",
      "City of London         908299     978395    1001644  \n",
      "Barking & Dagenham     350872     353925     347148  \n",
      "Barnet                 586289     575131     574285  \n",
      "Bexley                 402319     398450     396025  \n",
      "Brent                  532286     531523     541559  \n",
      "\n",
      "[5 rows x 342 columns]\n"
     ]
    }
   ],
   "source": [
    "properties = properties[properties.index.notnull()]\n",
    "properties.dropna(axis=1, how='all', inplace=True)\n",
    "properties.drop(properties.columns[33:],axis=1, inplace=True)\n",
    "properties = properties.transpose()\n",
    "print(properties.head())"
   ]
  },
  {
   "cell_type": "markdown",
   "metadata": {
    "colab_type": "text",
    "id": "o1uLbJAsoIjK"
   },
   "source": [
    "**2.3. Cleaning the data (part 2)**\n",
    "\n",
    "You might we have to **rename** a couple columns. How do you do this? The clue's pretty bold..."
   ]
  },
  {
   "cell_type": "code",
   "execution_count": null,
   "metadata": {},
   "outputs": [],
   "source": []
  },
  {
   "cell_type": "markdown",
   "metadata": {
    "colab_type": "text",
    "id": "jy8BzXHmoWEw"
   },
   "source": [
    "**2.4.Transforming the data**\n",
    "\n",
    "Remember what Wes McKinney said about tidy data? \n",
    "\n",
    "You might need to **melt** your DataFrame here. "
   ]
  },
  {
   "cell_type": "code",
   "execution_count": 6,
   "metadata": {
    "colab": {},
    "colab_type": "code",
    "id": "S2wM0qLuo2Zt"
   },
   "outputs": [
    {
     "name": "stdout",
     "output_type": "stream",
     "text": [
      "                  Borough       Date Avg House Price\n",
      "0          City of London 1995-01-01     91448.98487\n",
      "1      Barking & Dagenham 1995-01-01      50460.2266\n",
      "2                  Barnet 1995-01-01     93284.51832\n",
      "3                  Bexley 1995-01-01     64958.09036\n",
      "4                   Brent 1995-01-01     71306.56698\n",
      "...                   ...        ...             ...\n",
      "11281              Sutton 2023-06-01          433241\n",
      "11282       Tower Hamlets 2023-06-01          485790\n",
      "11283      Waltham Forest 2023-06-01          506476\n",
      "11284          Wandsworth 2023-06-01          619255\n",
      "11285         Westminster 2023-06-01          996153\n",
      "\n",
      "[11286 rows x 3 columns]\n"
     ]
    }
   ],
   "source": [
    "prop_melt = properties.melt(var_name='Date', value_name='Avg House Price', ignore_index=False)\n",
    "prop_melt.reset_index(names='Borough', inplace=True)\n",
    "print(prop_melt)"
   ]
  },
  {
   "cell_type": "markdown",
   "metadata": {
    "colab_type": "text",
    "id": "7kIsgAo7o3mf"
   },
   "source": [
    "Remember to make sure your column data types are all correct. Average prices, for example, should be floating point numbers... "
   ]
  },
  {
   "cell_type": "code",
   "execution_count": 7,
   "metadata": {},
   "outputs": [
    {
     "name": "stdout",
     "output_type": "stream",
     "text": [
      "                              Avg House Price\n",
      "Borough            Date                      \n",
      "City of London     1995-01-01     91448.98487\n",
      "Barking & Dagenham 1995-01-01      50460.2266\n",
      "Barnet             1995-01-01     93284.51832\n",
      "Bexley             1995-01-01     64958.09036\n",
      "Brent              1995-01-01     71306.56698\n",
      "...                                       ...\n",
      "Sutton             2023-06-01          433241\n",
      "Tower Hamlets      2023-06-01          485790\n",
      "Waltham Forest     2023-06-01          506476\n",
      "Wandsworth         2023-06-01          619255\n",
      "Westminster        2023-06-01          996153\n",
      "\n",
      "[11286 rows x 1 columns]\n"
     ]
    }
   ],
   "source": [
    "prop_multi = prop_melt.set_index(['Borough','Date'])\n",
    "print(prop_multi)"
   ]
  },
  {
   "cell_type": "markdown",
   "metadata": {
    "colab_type": "text",
    "id": "knLUXHLypOtw"
   },
   "source": [
    "**2.5. Cleaning the data (part 3)**\n",
    "\n",
    "Do we have an equal number of observations in the ID, Average Price, Month, and London Borough columns? Remember that there are only 32 London Boroughs. How many entries do you have in that column? \n",
    "\n",
    "Check out the contents of the London Borough column, and if you find null values, get rid of them however you see fit. "
   ]
  },
  {
   "cell_type": "code",
   "execution_count": 8,
   "metadata": {
    "colab": {},
    "colab_type": "code",
    "id": "BnvTW5a3p0fC"
   },
   "outputs": [
    {
     "name": "stdout",
     "output_type": "stream",
     "text": [
      "Borough            0\n",
      "Date               0\n",
      "Avg House Price    0\n",
      "dtype: int64\n"
     ]
    }
   ],
   "source": [
    "print(prop_melt.isna().sum())"
   ]
  },
  {
   "cell_type": "markdown",
   "metadata": {
    "colab_type": "text",
    "id": "PGEx6mJsp6dG"
   },
   "source": [
    "**2.6. Visualizing the data**\n",
    "\n",
    "To visualize the data, why not subset on a particular London Borough? Maybe do a line plot of Month against Average Price?"
   ]
  },
  {
   "cell_type": "code",
   "execution_count": 9,
   "metadata": {
    "colab": {},
    "colab_type": "code",
    "id": "nAg5pT9cqHAR"
   },
   "outputs": [
    {
     "data": {
      "text/plain": [
       "<Axes: xlabel='Date'>"
      ]
     },
     "execution_count": 9,
     "metadata": {},
     "output_type": "execute_result"
    },
    {
     "data": {
      "image/png": "[encoded data removed]",
      "text/plain": [
       "<Figure size 640x480 with 1 Axes>"
      ]
     },
     "metadata": {},
     "output_type": "display_data"
    }
   ],
   "source": [
    "prop_multi.loc[('City of London','1995')].plot(kind='line')"
   ]
  },
  {
   "cell_type": "markdown",
   "metadata": {
    "colab_type": "text",
    "id": "aWTPqSJeqHnC"
   },
   "source": [
    "To limit the number of data points you have, you might want to extract the year from every month value your *Month* column. \n",
    "\n",
    "To this end, you *could* apply a ***lambda function***. Your logic could work as follows:\n",
    "1. look through the `Month` column\n",
    "2. extract the year from each individual value in that column \n",
    "3. store that corresponding year as separate column. \n",
    "\n",
    "Whether you go ahead with this is up to you. Just so long as you answer our initial brief: which boroughs of London have seen the greatest house price increase, on average, over the past two decades? "
   ]
  },
  {
   "cell_type": "code",
   "execution_count": 10,
   "metadata": {
    "colab": {},
    "colab_type": "code",
    "id": "e0DF92cyqnu8"
   },
   "outputs": [
    {
     "name": "stdout",
     "output_type": "stream",
     "text": [
      "City of London\n",
      "Barking & Dagenham\n",
      "Barnet\n",
      "Bexley\n",
      "Brent\n",
      "Bromley\n",
      "Camden\n",
      "Croydon\n",
      "Ealing\n",
      "Enfield\n",
      "Greenwich\n",
      "Hackney\n",
      "Hammersmith & Fulham\n",
      "Haringey\n",
      "Harrow\n",
      "Havering\n",
      "Hillingdon\n",
      "Hounslow\n",
      "Islington\n",
      "Kensington & Chelsea\n",
      "Kingston upon Thames\n",
      "Lambeth\n",
      "Lewisham\n",
      "Merton\n",
      "Newham\n",
      "Redbridge\n",
      "Richmond upon Thames\n",
      "Southwark\n",
      "Sutton\n",
      "Tower Hamlets\n",
      "Waltham Forest\n",
      "Wandsworth\n",
      "Westminster\n"
     ]
    }
   ],
   "source": [
    "## Question about prop_multi\n",
    "for i in prop_melt['Borough'].unique():\n",
    "    print(i)\n"
   ]
  },
  {
   "cell_type": "code",
   "execution_count": 11,
   "metadata": {},
   "outputs": [
    {
     "name": "stdout",
     "output_type": "stream",
     "text": [
      "1995\n",
      "1996\n",
      "1997\n",
      "1998\n",
      "1999\n",
      "2000\n",
      "2001\n",
      "2002\n",
      "2003\n",
      "2004\n",
      "2005\n",
      "2006\n",
      "2007\n",
      "2008\n",
      "2009\n",
      "2010\n",
      "2011\n",
      "2012\n",
      "2013\n",
      "2014\n",
      "2015\n",
      "2016\n",
      "2017\n",
      "2018\n",
      "2019\n",
      "2020\n",
      "2021\n",
      "2022\n",
      "2023\n"
     ]
    }
   ],
   "source": [
    "for i in prop_melt['Date'].dt.year.unique() :\n",
    "    print(i)"
   ]
  },
  {
   "cell_type": "markdown",
   "metadata": {
    "colab_type": "text",
    "id": "2knuTxAEqoJ4"
   },
   "source": [
    "**3. Modeling**\n",
    "\n",
    "Consider creating a function that will calculate a ratio of house prices, comparing the price of a house in 2018 to the price in 1998.\n",
    "\n",
    "Consider calling this function create_price_ratio.\n",
    "\n",
    "You'd want this function to:\n",
    "1. Take a filter of dfg, specifically where this filter constrains the London_Borough, as an argument. For example, one admissible argument should be: dfg[dfg['London_Borough']=='Camden'].\n",
    "2. Get the Average Price for that Borough, for the years 1998 and 2018.\n",
    "4. Calculate the ratio of the Average Price for 1998 divided by the Average Price for 2018.\n",
    "5. Return that ratio.\n",
    "\n",
    "Once you've written this function, you ultimately want to use it to iterate through all the unique London_Boroughs and work out the ratio capturing the difference of house prices between 1998 and 2018.\n",
    "\n",
    "Bear in mind: you don't have to write a function like this if you don't want to. If you can solve the brief otherwise, then great! \n",
    "\n",
    "***Hint***: This section should test the skills you acquired in:\n",
    "- Python Data Science Toolbox - Part One, all modules"
   ]
  },
  {
   "cell_type": "code",
   "execution_count": 32,
   "metadata": {
    "colab": {},
    "colab_type": "code",
    "id": "cKTyr437UgDa"
   },
   "outputs": [
    {
     "name": "stdout",
     "output_type": "stream",
     "text": [
      "Ratio of City of London is 530.16%\n",
      "Ratio of Barking & Dagenham is 489.66%\n",
      "Ratio of Barnet is 435.82%\n",
      "Ratio of Bexley is 424.9%\n",
      "Ratio of Brent is 489.46%\n",
      "Ratio of Bromley is 409.48%\n",
      "Ratio of Camden is 493.54%\n",
      "Ratio of Croydon is 420.11%\n",
      "Ratio of Ealing is 431.15%\n",
      "Ratio of Enfield is 426.35%\n",
      "Ratio of Greenwich is 476.3%\n",
      "Ratio of Hackney is 619.83%\n",
      "Ratio of Hammersmith & Fulham is 413.78%\n",
      "Ratio of Haringey is 513.46%\n",
      "Ratio of Harrow is 405.92%\n",
      "Ratio of Havering is 432.52%\n",
      "Ratio of Hillingdon is 420.03%\n",
      "Ratio of Hounslow is 397.64%\n",
      "Ratio of Islington is 484.4%\n",
      "Ratio of Kensington & Chelsea is 508.25%\n",
      "Ratio of Kingston upon Thames is 427.05%\n",
      "Ratio of Lambeth is 495.78%\n",
      "Ratio of Lewisham is 544.92%\n",
      "Ratio of Merton is 474.13%\n",
      "Ratio of Newham is 530.54%\n",
      "Ratio of Redbridge is 447.12%\n",
      "Ratio of Richmond upon Thames is 400.52%\n",
      "Ratio of Southwark is 551.65%\n",
      "Ratio of Sutton is 411.85%\n",
      "Ratio of Tower Hamlets is 462.67%\n",
      "Ratio of Waltham Forest is 583.48%\n",
      "Ratio of Wandsworth is 475.77%\n",
      "Ratio of Westminster is 535.36%\n",
      "Hackney has the highest ratio with 619.83%\n",
      "Hounslow has the lowest ratio with 397.64%\n"
     ]
    }
   ],
   "source": [
    "def ratio(borough):\n",
    "    ratio_dif = (prop_multi.loc[(borough,'2018')].mean() / prop_multi.loc[(borough,'1998')].mean()).values[0]\n",
    "    ratio_dif = ratio_dif * 100\n",
    "    return round(ratio_dif, 2)\n",
    "highest = {'borough':'na','perc':0}\n",
    "lowest = {'borough':'na','perc':1000}\n",
    "for borough in prop_melt['Borough'].unique():\n",
    "    ratio_val = ratio(borough)\n",
    "    print(f'Ratio of {borough} is {ratio_val}%')\n",
    "    if ratio_val > highest['perc']:\n",
    "        highest['borough'] = borough\n",
    "        highest['perc'] = ratio_val\n",
    "    if ratio_val < lowest['perc']:\n",
    "        lowest['borough'] = borough\n",
    "        lowest['perc'] = ratio_val\n",
    "print(f'{highest[\"borough\"]} has the highest ratio with {highest[\"perc\"]}%')\n",
    "print(f'{lowest[\"borough\"]} has the lowest ratio with {lowest[\"perc\"]}%')"
   ]
  },
  {
   "cell_type": "markdown",
   "metadata": {
    "colab_type": "text",
    "id": "NzYUI7FxJpgv"
   },
   "source": [
    "### 4. Conclusion\n",
    "What can you conclude? Type out your conclusion below. \n",
    "\n",
    "Look back at your notebook. Think about how you might summarize what you have done, and prepare a quick presentation on it to your mentor at your next meeting. \n",
    "\n",
    "We hope you enjoyed this practical project. It should have consolidated your data hygiene and pandas skills by looking at a real-world problem involving just the kind of dataset you might encounter as a budding data scientist. Congratulations, and looking forward to seeing you at the next step in the course! "
   ]
  },
  {
   "cell_type": "code",
   "execution_count": 31,
   "metadata": {},
   "outputs": [],
   "source": [
    "## Hackney has had the greatest increase with 619.83%, while Hounslow has had the lowest with 397.64%"
   ]
  }
 ],
 "metadata": {
  "colab": {
   "collapsed_sections": [],
   "name": "Springboard Data Science Career Track Unit 4 Challenge - Tier 3 Complete .ipynb",
   "provenance": []
  },
  "kernelspec": {
   "display_name": "Python 3 (ipykernel)",
   "language": "python",
   "name": "python3"
  },
  "language_info": {
   "codemirror_mode": {
    "name": "ipython",
    "version": 3
   },
   "file_extension": ".py",
   "mimetype": "text/x-python",
   "name": "python",
   "nbconvert_exporter": "python",
   "pygments_lexer": "ipython3",
   "version": "3.11.3"
  }
 },
 "nbformat": 4,
 "nbformat_minor": 1
}
